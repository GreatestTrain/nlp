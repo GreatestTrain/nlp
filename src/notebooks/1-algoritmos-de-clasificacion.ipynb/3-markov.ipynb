{
 "cells": [
  {
   "cell_type": "code",
   "execution_count": 114,
   "metadata": {},
   "outputs": [],
   "source": [
    "from pathlib import Path\n",
    "url = 'https://github.com/UniversalDependencies/UD_Spanish-AnCora.git'\n",
    "path = Path('/tmp/spanish-corpus/')"
   ]
  },
  {
   "cell_type": "code",
   "execution_count": 115,
   "metadata": {},
   "outputs": [],
   "source": [
    "from conllu import parse_incr"
   ]
  },
  {
   "cell_type": "code",
   "execution_count": 116,
   "metadata": {
    "tags": [
     "fetch"
    ]
   },
   "outputs": [
    {
     "name": "stdout",
     "output_type": "stream",
     "text": [
      "fatal: destination path '/tmp/spanish-corpus' already exists and is not an empty directory.\n"
     ]
    }
   ],
   "source": [
    "!git clone $url $path && echo 'Done.'"
   ]
  },
  {
   "cell_type": "code",
   "execution_count": 119,
   "metadata": {},
   "outputs": [],
   "source": [
    "import numpy as np"
   ]
  },
  {
   "cell_type": "code",
   "execution_count": 126,
   "metadata": {
    "tags": [
     "dataset"
    ]
   },
   "outputs": [],
   "source": [
    "word_list = []\n",
    "first_word_list = []\n",
    "counter = 0\n",
    "conllu_file = 'es_ancora-ud-dev.conllu'\n",
    "with open(path / conllu_file, 'r', encoding='utf-8') as f:\n",
    "    for tokenlist in parse_incr(f):\n",
    "        for token in tokenlist:\n",
    "            word_list.append(token)\n",
    "        first_word_list.append(tokenlist[0])"
   ]
  },
  {
   "attachments": {},
   "cell_type": "markdown",
   "metadata": {},
   "source": [
    "$$ C(tag) $$\n",
    "\n",
    "$$ C(\\text{word} \\cap \\text{tag}) $$ \n",
    "\n",
    "$$ C(\\text{word}_{\\text{first}}) $$ \n",
    "\n",
    "$$ C(\\text{tag} \\cap \\text{tag}_{\\text{prev}})$$"
   ]
  },
  {
   "cell_type": "code",
   "execution_count": 101,
   "metadata": {},
   "outputs": [],
   "source": [
    "import pandas as pd\n",
    "import numpy as np"
   ]
  },
  {
   "cell_type": "code",
   "execution_count": 102,
   "metadata": {
    "tags": [
     "dataset"
    ]
   },
   "outputs": [
    {
     "data": {
      "text/html": [
       "<div>\n",
       "<style scoped>\n",
       "    .dataframe tbody tr th:only-of-type {\n",
       "        vertical-align: middle;\n",
       "    }\n",
       "\n",
       "    .dataframe tbody tr th {\n",
       "        vertical-align: top;\n",
       "    }\n",
       "\n",
       "    .dataframe thead th {\n",
       "        text-align: right;\n",
       "    }\n",
       "</style>\n",
       "<table border=\"1\" class=\"dataframe\">\n",
       "  <thead>\n",
       "    <tr style=\"text-align: right;\">\n",
       "      <th></th>\n",
       "      <th>word</th>\n",
       "      <th>tag</th>\n",
       "      <th>tag_prev</th>\n",
       "    </tr>\n",
       "  </thead>\n",
       "  <tbody>\n",
       "    <tr>\n",
       "      <th>0</th>\n",
       "      <td>el</td>\n",
       "      <td>DET</td>\n",
       "      <td>None</td>\n",
       "    </tr>\n",
       "    <tr>\n",
       "      <th>1</th>\n",
       "      <td>gobernante</td>\n",
       "      <td>NOUN</td>\n",
       "      <td>DET</td>\n",
       "    </tr>\n",
       "    <tr>\n",
       "      <th>2</th>\n",
       "      <td>,</td>\n",
       "      <td>PUNCT</td>\n",
       "      <td>NOUN</td>\n",
       "    </tr>\n",
       "    <tr>\n",
       "      <th>3</th>\n",
       "      <td>con</td>\n",
       "      <td>ADP</td>\n",
       "      <td>PUNCT</td>\n",
       "    </tr>\n",
       "    <tr>\n",
       "      <th>4</th>\n",
       "      <td>ganada</td>\n",
       "      <td>ADJ</td>\n",
       "      <td>ADP</td>\n",
       "    </tr>\n",
       "    <tr>\n",
       "      <th>...</th>\n",
       "      <td>...</td>\n",
       "      <td>...</td>\n",
       "      <td>...</td>\n",
       "    </tr>\n",
       "    <tr>\n",
       "      <th>55477</th>\n",
       "      <td>llamaba</td>\n",
       "      <td>VERB</td>\n",
       "      <td>PRON</td>\n",
       "    </tr>\n",
       "    <tr>\n",
       "      <th>55478</th>\n",
       "      <td>francisco</td>\n",
       "      <td>PROPN</td>\n",
       "      <td>VERB</td>\n",
       "    </tr>\n",
       "    <tr>\n",
       "      <th>55479</th>\n",
       "      <td>franco</td>\n",
       "      <td>PROPN</td>\n",
       "      <td>PROPN</td>\n",
       "    </tr>\n",
       "    <tr>\n",
       "      <th>55480</th>\n",
       "      <td>\"</td>\n",
       "      <td>PUNCT</td>\n",
       "      <td>PROPN</td>\n",
       "    </tr>\n",
       "    <tr>\n",
       "      <th>55481</th>\n",
       "      <td>.</td>\n",
       "      <td>PUNCT</td>\n",
       "      <td>PUNCT</td>\n",
       "    </tr>\n",
       "  </tbody>\n",
       "</table>\n",
       "<p>55482 rows × 3 columns</p>\n",
       "</div>"
      ],
      "text/plain": [
       "             word    tag tag_prev\n",
       "0              el    DET     None\n",
       "1      gobernante   NOUN      DET\n",
       "2               ,  PUNCT     NOUN\n",
       "3             con    ADP    PUNCT\n",
       "4          ganada    ADJ      ADP\n",
       "...           ...    ...      ...\n",
       "55477     llamaba   VERB     PRON\n",
       "55478   francisco  PROPN     VERB\n",
       "55479      franco  PROPN    PROPN\n",
       "55480           \"  PUNCT    PROPN\n",
       "55481           .  PUNCT    PUNCT\n",
       "\n",
       "[55482 rows x 3 columns]"
      ]
     },
     "execution_count": 102,
     "metadata": {},
     "output_type": "execute_result"
    }
   ],
   "source": [
    "df = pd.DataFrame(word_list)\n",
    "df = df[['form','upos']]\n",
    "df.rename(columns={'form': 'word', 'upos': 'tag'}, inplace=True)\n",
    "df.word = df.word.str.lower()\n",
    "df['tag_prev'] = df['tag'].shift(1)\n",
    "df"
   ]
  },
  {
   "cell_type": "code",
   "execution_count": 131,
   "metadata": {},
   "outputs": [
    {
     "name": "stdout",
     "output_type": "stream",
     "text": [
      "|    | word       | tag   | tag_prev   |\n",
      "|---:|:-----------|:------|:-----------|\n",
      "|  0 | el         | DET   |            |\n",
      "|  1 | gobernante | NOUN  | DET        |\n",
      "|  2 | ,          | PUNCT | NOUN       |\n",
      "|  3 | con        | ADP   | PUNCT      |\n",
      "|  4 | ganada     | ADJ   | ADP        |\n"
     ]
    }
   ],
   "source": [
    "print(df.head().to_markdown())"
   ]
  },
  {
   "cell_type": "code",
   "execution_count": 135,
   "metadata": {},
   "outputs": [],
   "source": [
    "tag_count = df['tag'].value_counts()\n",
    "tagpair_count = df[['tag', 'tag_prev']].drop(index=0).value_counts()"
   ]
  },
  {
   "cell_type": "code",
   "execution_count": 104,
   "metadata": {},
   "outputs": [],
   "source": [
    "wordtag_count = df[['word', 'tag']].value_counts()"
   ]
  },
  {
   "cell_type": "code",
   "execution_count": 155,
   "metadata": {},
   "outputs": [
    {
     "data": {
      "text/plain": [
       "DET      0.362757\n",
       "ADP      0.155381\n",
       "PROPN    0.112455\n",
       "PUNCT    0.082225\n",
       "PRON     0.063482\n",
       "ADV      0.056832\n",
       "CCONJ    0.032648\n",
       "NOUN     0.027207\n",
       "SCONJ    0.024184\n",
       "VERB     0.024184\n",
       "NUM      0.019952\n",
       "AUX      0.016324\n",
       "ADJ      0.010883\n",
       "_        0.009069\n",
       "PART     0.001814\n",
       "INTJ     0.000605\n",
       "dtype: float64"
      ]
     },
     "execution_count": 155,
     "metadata": {},
     "output_type": "execute_result"
    }
   ],
   "source": [
    "pd.Series(list(map(lambda x: x['upos'], first_word_list))).value_counts(normalize=True)"
   ]
  },
  {
   "cell_type": "code",
   "execution_count": 157,
   "metadata": {},
   "outputs": [
    {
     "data": {
      "text/plain": [
       "DET      0.362757\n",
       "ADP      0.155381\n",
       "PROPN    0.112455\n",
       "PUNCT    0.082225\n",
       "PRON     0.063482\n",
       "ADV      0.056832\n",
       "CCONJ    0.032648\n",
       "NOUN     0.027207\n",
       "SCONJ    0.024184\n",
       "VERB     0.024184\n",
       "NUM      0.019952\n",
       "AUX      0.016324\n",
       "ADJ      0.010883\n",
       "_        0.009069\n",
       "PART     0.001814\n",
       "INTJ     0.000605\n",
       "SYM      0.000000\n",
       "Name: init_tag, dtype: float64"
      ]
     },
     "execution_count": 157,
     "metadata": {},
     "output_type": "execute_result"
    }
   ],
   "source": [
    "df_init = pd.DataFrame(first_word_list)\n",
    "df_init = df_init.apply(lambda row: {\"init_tag\": row[\"upos\"]}, axis = 1, result_type='expand')\n",
    "inittag_prob = df_init[\"init_tag\"].value_counts(normalize=True)\n",
    "for tag_type in tag_count.index:\n",
    "    if tag_type not in inittag_prob.index:\n",
    "        inittag_prob[tag_type] = 0\n",
    "assert(inittag_prob)\n",
    "inittag_prob"
   ]
  },
  {
   "cell_type": "code",
   "execution_count": 106,
   "metadata": {},
   "outputs": [],
   "source": [
    "tag_prob = tag_count / tag_count.sum()\n",
    "tagpair_prob = tagpair_count / tagpair_count.sum()\n",
    "wordtag_prob = wordtag_count / wordtag_count.sum()"
   ]
  },
  {
   "cell_type": "code",
   "execution_count": 158,
   "metadata": {},
   "outputs": [
    {
     "data": {
      "text/plain": [
       "tag    tag_prev\n",
       "NOUN   DET         0.705362\n",
       "DET    ADP         0.514030\n",
       "ADP    NOUN        0.323474\n",
       "PUNCT  NOUN        0.217386\n",
       "NOUN   ADP         0.194653\n",
       "                     ...   \n",
       "SCONJ  NUM         0.001143\n",
       "ADJ    SYM         0.027778\n",
       "PART   PROPN       0.000247\n",
       "VERB   INTJ        0.100002\n",
       "PART   PRON        0.000317\n",
       "Length: 212, dtype: float64"
      ]
     },
     "execution_count": 158,
     "metadata": {},
     "output_type": "execute_result"
    }
   ],
   "source": [
    "prior = tagpair_prob /  tag_prob[tagpair_count.reset_index()['tag_prev']].values\n",
    "prior"
   ]
  },
  {
   "cell_type": "code",
   "execution_count": 108,
   "metadata": {},
   "outputs": [
    {
     "data": {
      "text/plain": [
       "word       tag  \n",
       "de         ADP      0.461457\n",
       ",          PUNCT    0.451372\n",
       "el         DET      0.342932\n",
       "la         DET      0.232469\n",
       ".          PUNCT    0.263208\n",
       "                      ...   \n",
       "estimular  VERB     0.000219\n",
       "estimulan  VERB     0.000219\n",
       "estimar    VERB     0.000219\n",
       "estimado   ADJ      0.000282\n",
       "únicos     ADJ      0.000282\n",
       "Length: 10526, dtype: float64"
      ]
     },
     "execution_count": 108,
     "metadata": {},
     "output_type": "execute_result"
    }
   ],
   "source": [
    "likelihood = wordtag_prob / tag_prob[wordtag_count.reset_index()['tag']].values\n",
    "likelihood"
   ]
  },
  {
   "cell_type": "code",
   "execution_count": 109,
   "metadata": {},
   "outputs": [],
   "source": [
    "Path.mkdir(Path.cwd().parent.parent.parent / 'data', exist_ok=True)"
   ]
  },
  {
   "cell_type": "code",
   "execution_count": 110,
   "metadata": {},
   "outputs": [],
   "source": [
    "prior.sort_index().to_pickle(Path.cwd().parent.parent.parent / 'data' / 'transitionHMM.npy')\n",
    "likelihood.sort_index().to_pickle(Path.cwd().parent.parent.parent / 'data' / 'emissionHMM.npy')\n",
    "inittag_prob.sort_index().to_pickle(Path.cwd().parent.parent.parent / 'data' / 'inittagprobHMM.npy')"
   ]
  }
 ],
 "metadata": {
  "kernelspec": {
   "display_name": "Python 3",
   "language": "python",
   "name": "python3"
  },
  "language_info": {
   "codemirror_mode": {
    "name": "ipython",
    "version": 3
   },
   "file_extension": ".py",
   "mimetype": "text/x-python",
   "name": "python",
   "nbconvert_exporter": "python",
   "pygments_lexer": "ipython3",
   "version": "3.11.3"
  },
  "orig_nbformat": 4
 },
 "nbformat": 4,
 "nbformat_minor": 2
}
