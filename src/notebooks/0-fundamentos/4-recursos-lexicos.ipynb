{
 "cells": [
  {
   "cell_type": "code",
   "execution_count": 6,
   "metadata": {},
   "outputs": [],
   "source": [
    "import nltk\n",
    "from nltk.book import text1, FreqDist\n",
    "from nltk.corpus import stopwords"
   ]
  },
  {
   "attachments": {},
   "cell_type": "markdown",
   "metadata": {},
   "source": [
    "## lexicons\n",
    "\n",
    "1. Sustantivos\n",
    "2. Adjetivos\n",
    "3. Artículos\n",
    "5. Pronombres\n",
    "5. Verbos\n",
    "4. Adverbios\n",
    "6. Interjecciones\n",
    "7. Preposiciones\n",
    "9. Conjunciones"
   ]
  },
  {
   "attachments": {},
   "cell_type": "markdown",
   "metadata": {},
   "source": [
    ":stopwords\n",
    "    Palabras inútiles"
   ]
  },
  {
   "cell_type": "code",
   "execution_count": 7,
   "metadata": {},
   "outputs": [],
   "source": [
    "fdist = FreqDist(text1)"
   ]
  },
  {
   "cell_type": "code",
   "execution_count": 10,
   "metadata": {},
   "outputs": [],
   "source": [
    "stopwords_es = stopwords.words('spanish')\n",
    "stopwords_en = stopwords.words('english')"
   ]
  },
  {
   "cell_type": "code",
   "execution_count": 11,
   "metadata": {},
   "outputs": [
    {
     "name": "stdout",
     "output_type": "stream",
     "text": [
      "0.5862954769399469 0.4137045230600531\n"
     ]
    }
   ],
   "source": [
    "text1_wo_stopwords = list(filter(lambda x: x.lower() not in stopwords_en, text1))\n",
    "wo_stopwors_percentage = len(text1_wo_stopwords) / len(text1)\n",
    "print(wo_stopwors_percentage, 1 - wo_stopwors_percentage)"
   ]
  }
 ],
 "metadata": {
  "kernelspec": {
   "display_name": "Python 3",
   "language": "python",
   "name": "python3"
  },
  "language_info": {
   "codemirror_mode": {
    "name": "ipython",
    "version": 3
   },
   "file_extension": ".py",
   "mimetype": "text/x-python",
   "name": "python",
   "nbconvert_exporter": "python",
   "pygments_lexer": "ipython3",
   "version": "3.11.3"
  },
  "orig_nbformat": 4
 },
 "nbformat": 4,
 "nbformat_minor": 2
}
