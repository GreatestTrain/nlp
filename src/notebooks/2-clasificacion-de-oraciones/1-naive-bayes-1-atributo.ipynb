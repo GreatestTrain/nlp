{
 "cells": [
  {
   "cell_type": "code",
   "execution_count": 1,
   "metadata": {},
   "outputs": [],
   "source": [
    "import nltk, random\n",
    "from nltk.corpus import names"
   ]
  },
  {
   "cell_type": "code",
   "execution_count": 2,
   "metadata": {},
   "outputs": [],
   "source": [
    "def attributes(word):\n",
    "    return {\n",
    "        'last_char': word[-1],\n",
    "    }"
   ]
  },
  {
   "cell_type": "code",
   "execution_count": 3,
   "metadata": {},
   "outputs": [],
   "source": [
    "tagset = [{'word': word, 'genre': 'male'} for word in names.words('male.txt')]\n",
    "tagset += [{'word': word, 'genre': 'female'} for word in names.words('female.txt')]"
   ]
  },
  {
   "cell_type": "code",
   "execution_count": 4,
   "metadata": {},
   "outputs": [],
   "source": [
    "random.seed(43)\n",
    "random.shuffle(tagset)"
   ]
  },
  {
   "cell_type": "code",
   "execution_count": 6,
   "metadata": {},
   "outputs": [],
   "source": [
    "import pandas as pd\n",
    "import numpy as np"
   ]
  },
  {
   "cell_type": "code",
   "execution_count": 64,
   "metadata": {},
   "outputs": [
    {
     "data": {
      "text/html": [
       "<div>\n",
       "<style scoped>\n",
       "    .dataframe tbody tr th:only-of-type {\n",
       "        vertical-align: middle;\n",
       "    }\n",
       "\n",
       "    .dataframe tbody tr th {\n",
       "        vertical-align: top;\n",
       "    }\n",
       "\n",
       "    .dataframe thead th {\n",
       "        text-align: right;\n",
       "    }\n",
       "</style>\n",
       "<table border=\"1\" class=\"dataframe\">\n",
       "  <thead>\n",
       "    <tr style=\"text-align: right;\">\n",
       "      <th></th>\n",
       "      <th>word</th>\n",
       "      <th>genre</th>\n",
       "      <th>last_char</th>\n",
       "    </tr>\n",
       "  </thead>\n",
       "  <tbody>\n",
       "    <tr>\n",
       "      <th>0</th>\n",
       "      <td>Doro</td>\n",
       "      <td>female</td>\n",
       "      <td>{'last_char': 'o'}</td>\n",
       "    </tr>\n",
       "    <tr>\n",
       "      <th>1</th>\n",
       "      <td>Anallese</td>\n",
       "      <td>female</td>\n",
       "      <td>{'last_char': 'e'}</td>\n",
       "    </tr>\n",
       "    <tr>\n",
       "      <th>2</th>\n",
       "      <td>Phillip</td>\n",
       "      <td>male</td>\n",
       "      <td>{'last_char': 'p'}</td>\n",
       "    </tr>\n",
       "    <tr>\n",
       "      <th>3</th>\n",
       "      <td>Alaa</td>\n",
       "      <td>male</td>\n",
       "      <td>{'last_char': 'a'}</td>\n",
       "    </tr>\n",
       "    <tr>\n",
       "      <th>4</th>\n",
       "      <td>Christabella</td>\n",
       "      <td>female</td>\n",
       "      <td>{'last_char': 'a'}</td>\n",
       "    </tr>\n",
       "    <tr>\n",
       "      <th>...</th>\n",
       "      <td>...</td>\n",
       "      <td>...</td>\n",
       "      <td>...</td>\n",
       "    </tr>\n",
       "    <tr>\n",
       "      <th>7939</th>\n",
       "      <td>Hillard</td>\n",
       "      <td>male</td>\n",
       "      <td>{'last_char': 'd'}</td>\n",
       "    </tr>\n",
       "    <tr>\n",
       "      <th>7940</th>\n",
       "      <td>Margret</td>\n",
       "      <td>female</td>\n",
       "      <td>{'last_char': 't'}</td>\n",
       "    </tr>\n",
       "    <tr>\n",
       "      <th>7941</th>\n",
       "      <td>Kial</td>\n",
       "      <td>female</td>\n",
       "      <td>{'last_char': 'l'}</td>\n",
       "    </tr>\n",
       "    <tr>\n",
       "      <th>7942</th>\n",
       "      <td>Sheridan</td>\n",
       "      <td>male</td>\n",
       "      <td>{'last_char': 'n'}</td>\n",
       "    </tr>\n",
       "    <tr>\n",
       "      <th>7943</th>\n",
       "      <td>Bjorn</td>\n",
       "      <td>male</td>\n",
       "      <td>{'last_char': 'n'}</td>\n",
       "    </tr>\n",
       "  </tbody>\n",
       "</table>\n",
       "<p>7944 rows × 3 columns</p>\n",
       "</div>"
      ],
      "text/plain": [
       "              word   genre           last_char\n",
       "0             Doro  female  {'last_char': 'o'}\n",
       "1         Anallese  female  {'last_char': 'e'}\n",
       "2          Phillip    male  {'last_char': 'p'}\n",
       "3             Alaa    male  {'last_char': 'a'}\n",
       "4     Christabella  female  {'last_char': 'a'}\n",
       "...            ...     ...                 ...\n",
       "7939       Hillard    male  {'last_char': 'd'}\n",
       "7940       Margret  female  {'last_char': 't'}\n",
       "7941          Kial  female  {'last_char': 'l'}\n",
       "7942      Sheridan    male  {'last_char': 'n'}\n",
       "7943         Bjorn    male  {'last_char': 'n'}\n",
       "\n",
       "[7944 rows x 3 columns]"
      ]
     },
     "execution_count": 64,
     "metadata": {},
     "output_type": "execute_result"
    }
   ],
   "source": [
    "df = pd.DataFrame(tagset)\n",
    "df['last_char'] = df.apply({'word': lambda x: attributes(x)}, raw=True, result_type='expand')\n",
    "df"
   ]
  },
  {
   "cell_type": "code",
   "execution_count": 65,
   "metadata": {},
   "outputs": [],
   "source": [
    "from sklearn.model_selection import train_test_split\n",
    "train, test = train_test_split(df, train_size=0.9, random_state=43)"
   ]
  },
  {
   "cell_type": "code",
   "execution_count": 67,
   "metadata": {},
   "outputs": [],
   "source": [
    "classifier = nltk.NaiveBayesClassifier.train(train.iloc[:,[-1,-2]].values.tolist())"
   ]
  },
  {
   "cell_type": "code",
   "execution_count": 72,
   "metadata": {},
   "outputs": [
    {
     "data": {
      "text/plain": [
       "'female'"
      ]
     },
     "execution_count": 72,
     "metadata": {},
     "output_type": "execute_result"
    }
   ],
   "source": [
    "classifier.classify(attributes('amanda'))"
   ]
  }
 ],
 "metadata": {
  "kernelspec": {
   "display_name": "Python 3",
   "language": "python",
   "name": "python3"
  },
  "language_info": {
   "codemirror_mode": {
    "name": "ipython",
    "version": 3
   },
   "file_extension": ".py",
   "mimetype": "text/x-python",
   "name": "python",
   "nbconvert_exporter": "python",
   "pygments_lexer": "ipython3",
   "version": "3.11.3"
  },
  "orig_nbformat": 4
 },
 "nbformat": 4,
 "nbformat_minor": 2
}
